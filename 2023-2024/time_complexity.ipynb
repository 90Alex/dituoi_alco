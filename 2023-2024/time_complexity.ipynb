{
 "cells": [
  {
   "cell_type": "markdown",
   "metadata": {},
   "source": [
    "# Πολυπλοκότητα χρόνου - παραδείγματα"
   ]
  },
  {
   "cell_type": "code",
   "execution_count": 2,
   "metadata": {},
   "outputs": [],
   "source": [
    "# O(n)\n",
    "\n",
    "n = 1000\n",
    "for i in range(n):\n",
    "    pass\n",
    "\n",
    "for i in range(0, n, 2):\n",
    "    pass\n",
    "\n",
    "for i in range(0, n // 2):\n",
    "    pass"
   ]
  },
  {
   "cell_type": "code",
   "execution_count": 3,
   "metadata": {},
   "outputs": [],
   "source": [
    "# O(n^2)\n",
    "\n",
    "n = 1000\n",
    "for i in range(n):\n",
    "    for j in range(n):\n",
    "        pass\n",
    "\n",
    "for i in range(n):\n",
    "    for j in range(i):\n",
    "        pass"
   ]
  },
  {
   "cell_type": "code",
   "execution_count": 4,
   "metadata": {},
   "outputs": [],
   "source": [
    "# O(n^(1/2))\n",
    "\n",
    "n = 1000\n",
    "for i in range(n):\n",
    "    x = i * i\n",
    "    if x >= n:\n",
    "        break\n",
    "\n",
    "\n",
    "x = 0\n",
    "for i in range(n + 1):\n",
    "    x = x + i\n",
    "    if x > n:\n",
    "        break"
   ]
  },
  {
   "cell_type": "code",
   "execution_count": 5,
   "metadata": {},
   "outputs": [],
   "source": [
    "# O(logn)\n",
    "\n",
    "n = 1000\n",
    "x = 1\n",
    "for i in range(n):\n",
    "    x = x * 2\n",
    "    if x > n:\n",
    "        break"
   ]
  },
  {
   "cell_type": "code",
   "execution_count": null,
   "metadata": {},
   "outputs": [],
   "source": [
    "# O(nlogn)\n",
    "n = 1000\n",
    "for i in range(n):\n",
    "    x = 1\n",
    "    for j in range(n):\n",
    "        x = x * 2\n",
    "        if x >= n:\n",
    "            break"
   ]
  }
 ],
 "metadata": {
  "kernelspec": {
   "display_name": "py310",
   "language": "python",
   "name": "python3"
  },
  "language_info": {
   "codemirror_mode": {
    "name": "ipython",
    "version": 3
   },
   "file_extension": ".py",
   "mimetype": "text/x-python",
   "name": "python",
   "nbconvert_exporter": "python",
   "pygments_lexer": "ipython3",
   "version": "3.10.11"
  },
  "orig_nbformat": 4
 },
 "nbformat": 4,
 "nbformat_minor": 2
}
